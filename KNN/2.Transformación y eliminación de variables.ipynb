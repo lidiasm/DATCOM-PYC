{
 "cells": [
  {
   "cell_type": "code",
   "execution_count": null,
   "id": "4e7a251f",
   "metadata": {},
   "outputs": [],
   "source": [
    "library(dplyr)\n",
    "library(fastDummies)"
   ]
  },
  {
   "cell_type": "code",
   "execution_count": null,
   "id": "a43becc4",
   "metadata": {},
   "outputs": [],
   "source": [
    "data = read.csv(\"C:/Users/davii/Desktop/UGR/Asignaturas/Minería de Datos_Preprocesamiento y clasificación/Trabajo final/train_MissForest.csv\")\n",
    "str(data)"
   ]
  },
  {
   "cell_type": "code",
   "execution_count": null,
   "id": "1bb42782",
   "metadata": {},
   "outputs": [],
   "source": [
    "#eliminamos las variables con una tasa alta de NA\n",
    "data = select(data,-hhs_geo_region,-employment_occupation,-employment_industry)\n",
    "str(data)"
   ]
  },
  {
   "cell_type": "code",
   "execution_count": null,
   "id": "9f5d6373",
   "metadata": {},
   "outputs": [],
   "source": [
    "#transformamos las variables a numéricas para que k-NN pueda trabajar con ellas\n",
    "data = dummy_cols(data,  select_columns = c(\"race\"))\n",
    "\n",
    "data$sex = as.integer(data$sex == \"Male\")\n",
    "data$marital_status = as.integer(data$marital_status == \"Married\")\n",
    "data$rent_or_own = as.integer(data$rent_or_own == \"Rent\")\n",
    "data$age_group = as.integer(data$age_group)\n",
    "data$employment_status =  as.integer(data$employment_status)\n",
    "data$education = as.integer(data$education)\n",
    "data$census_msa = as.integer(data$census_msa)\n",
    "data$income_poverty = as.integer(data$income_poverty)\n",
    "str(data)\n",
    "\n",
    "write.csv(data, \"train_MissForest_clean.csv\")"
   ]
  }
 ],
 "metadata": {
  "kernelspec": {
   "display_name": "R",
   "language": "R",
   "name": "ir"
  },
  "language_info": {
   "codemirror_mode": "r",
   "file_extension": ".r",
   "mimetype": "text/x-r-source",
   "name": "R",
   "pygments_lexer": "r",
   "version": "4.1.2"
  }
 },
 "nbformat": 4,
 "nbformat_minor": 5
}
